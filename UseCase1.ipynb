{
 "cells": [
  {
   "cell_type": "code",
   "execution_count": 1,
   "metadata": {},
   "outputs": [],
   "source": [
    "# Import Necessary Libraries to Load and Read the Data\n",
    "\n",
    "import pandas as pd"
   ]
  },
  {
   "cell_type": "code",
   "execution_count": null,
   "metadata": {},
   "outputs": [],
   "source": [
    "pip install openpyxl"
   ]
  },
  {
   "cell_type": "code",
   "execution_count": 4,
   "metadata": {},
   "outputs": [],
   "source": [
    "# Read CSV File\n",
    "df_csv = pd.read_csv('branch_sales.csv')\n",
    "\n",
    "# Read Excel File\n",
    "df_excel = pd.read_excel('branch_sales.xlsx')\n",
    "\n",
    "#Read Json File\n",
    "df_json = pd.read_json('branch_sales.json')"
   ]
  },
  {
   "cell_type": "code",
   "execution_count": 5,
   "metadata": {},
   "outputs": [],
   "source": [
    "# Drop Duplicates from all the Three files\n",
    "\n",
    "df_csv.drop_duplicates(inplace = True)\n",
    "df_excel.drop_duplicates(inplace = True)\n",
    "df_json.drop_duplicates(inplace = True)"
   ]
  },
  {
   "cell_type": "code",
   "execution_count": 6,
   "metadata": {},
   "outputs": [],
   "source": [
    "# Handle Missing Values\n",
    "\n",
    "df_csv.fillna({\n",
    "    'discount': 0.0,\n",
    "    'customer_feedback' : 'No Feedback'\n",
    "}, inplace=True)\n",
    "\n",
    "df_excel.fillna({\n",
    "    'discount': 0.0,\n",
    "    'customer_feedback' : 'No Feedback'\n",
    "}, inplace=True)\n",
    "\n",
    "df_json.fillna({\n",
    "    'discount': 0.0,\n",
    "    'customer_feedback' : 'No Feedback'\n",
    "}, inplace=True)"
   ]
  },
  {
   "cell_type": "code",
   "execution_count": 7,
   "metadata": {},
   "outputs": [],
   "source": [
    "# Standardize Date Columns\n",
    "\n",
    "df_csv['date'] = pd.to_datetime(df_csv['date'], format=\"%Y-%m-%d\")\n",
    "df_excel['date'] = pd.to_datetime(df_csv['date'], format=\"%Y-%m-%d\")\n",
    "df_json['date'] = pd.to_datetime(df_csv['date'], format=\"%Y-%m-%d\")"
   ]
  },
  {
   "cell_type": "code",
   "execution_count": null,
   "metadata": {},
   "outputs": [],
   "source": [
    "# Ensure Numerical Data\n",
    "\n",
    "for df in [df_csv, df_excel, df_json]:\n",
    "    df['quantity'] = pd.to_numeric(df['quantity'], errors = 'coerce')\n",
    "    df['price'] = pd.to_numeric(df['quantity'], errors = 'coerce')\n",
    "    df['discount'] = pd.to_numeric(df['quantity'], errors = 'coerce')"
   ]
  },
  {
   "cell_type": "code",
   "execution_count": 8,
   "metadata": {},
   "outputs": [
    {
     "name": "stdout",
     "output_type": "stream",
     "text": [
      "Cleaned CSV Data\n",
      "  transaction_id branch_id branch_location       date      time customer_id  \\\n",
      "0           T001      A004         Houston 2024-09-01  11:00:00        C001   \n",
      "1           T002      A005         Houston 2024-09-02  12:00:00        C002   \n",
      "2           T003      A003         Houston 2024-09-03  11:30:00        C003   \n",
      "3           T004      A005           Miami 2024-09-04  13:30:00        C004   \n",
      "4           T005      A005         Chicago 2024-09-05  08:30:00        C005   \n",
      "\n",
      "  item_id   item_name     category  quantity    price  discount  total_amount  \\\n",
      "0    I001     T-shirt  Electronics         9  1699.95     29.36      15270.19   \n",
      "1    I002  Headphones  Electronics         9  1318.65     80.94      11786.91   \n",
      "2    I003      Laptop  Electronics         2  1140.93     81.01       2200.85   \n",
      "3    I004     T-shirt  Accessories         7   196.41     86.71       1288.16   \n",
      "4    I005  Headphones  Electronics         3   741.75     91.32       2133.93   \n",
      "\n",
      "  payment_method customer_feedback  \n",
      "0           Cash       No feedback  \n",
      "1           Cash      Satisfactory  \n",
      "2           Cash     Quick service  \n",
      "3    Credit Card     Great product  \n",
      "4    Credit Card      Satisfactory  \n"
     ]
    }
   ],
   "source": [
    "# Display Cleaned Data\n",
    "\n",
    "print(\"Cleaned CSV Data\")\n",
    "print(df_csv.head())"
   ]
  },
  {
   "cell_type": "code",
   "execution_count": 9,
   "metadata": {},
   "outputs": [],
   "source": [
    "# Data Transformation and Standardization\n",
    "\n",
    "column_names = ['transaction_id', 'branch_id', 'branch_location', 'date', 'time', 'customer_id',\n",
    "                'item_id', 'item_name', 'category', 'quantity', 'price', 'discount', 'total_amount',\n",
    "                'payment_method', 'customer_feedback']\n",
    "\n",
    "df_csv.columns = column_names\n",
    "df_json.columns = column_names\n",
    "df_excel.columns = column_names"
   ]
  },
  {
   "cell_type": "code",
   "execution_count": 10,
   "metadata": {},
   "outputs": [],
   "source": [
    "# Concatenate All Formats\n",
    "\n",
    "unified_data = pd.concat([df_csv, df_excel, df_json], ignore_index = True)"
   ]
  },
  {
   "cell_type": "code",
   "execution_count": 11,
   "metadata": {},
   "outputs": [],
   "source": [
    "# Recalculate Total Amount for Consistency\n",
    "\n",
    "unified_data['total_amount'] = (unified_data['quantity'] * unified_data['price']) - unified_data['discount']"
   ]
  },
  {
   "cell_type": "code",
   "execution_count": 12,
   "metadata": {},
   "outputs": [
    {
     "name": "stdout",
     "output_type": "stream",
     "text": [
      "Unified Data Sample\n",
      "  transaction_id branch_id branch_location       date      time customer_id  \\\n",
      "0           T001      A004         Houston 2024-09-01  11:00:00        C001   \n",
      "1           T002      A005         Houston 2024-09-02  12:00:00        C002   \n",
      "2           T003      A003         Houston 2024-09-03  11:30:00        C003   \n",
      "3           T004      A005           Miami 2024-09-04  13:30:00        C004   \n",
      "4           T005      A005         Chicago 2024-09-05  08:30:00        C005   \n",
      "\n",
      "  item_id   item_name     category  quantity    price  discount  total_amount  \\\n",
      "0    I001     T-shirt  Electronics         9  1699.95     29.36      15270.19   \n",
      "1    I002  Headphones  Electronics         9  1318.65     80.94      11786.91   \n",
      "2    I003      Laptop  Electronics         2  1140.93     81.01       2200.85   \n",
      "3    I004     T-shirt  Accessories         7   196.41     86.71       1288.16   \n",
      "4    I005  Headphones  Electronics         3   741.75     91.32       2133.93   \n",
      "\n",
      "  payment_method customer_feedback  \n",
      "0           Cash       No feedback  \n",
      "1           Cash      Satisfactory  \n",
      "2           Cash     Quick service  \n",
      "3    Credit Card     Great product  \n",
      "4    Credit Card      Satisfactory  \n"
     ]
    }
   ],
   "source": [
    "# Display the Unified and Standardized Dataset\n",
    "\n",
    "print(\"Unified Data Sample\")\n",
    "print(unified_data.head())"
   ]
  },
  {
   "cell_type": "code",
   "execution_count": 13,
   "metadata": {},
   "outputs": [],
   "source": [
    "# Save the New Cleaned CSV\n",
    "\n",
    "unified_data.to_csv('Cleaned_Sales.csv' , index = False)"
   ]
  }
 ],
 "metadata": {
  "kernelspec": {
   "display_name": "Python 3",
   "language": "python",
   "name": "python3"
  },
  "language_info": {
   "codemirror_mode": {
    "name": "ipython",
    "version": 3
   },
   "file_extension": ".py",
   "mimetype": "text/x-python",
   "name": "python",
   "nbconvert_exporter": "python",
   "pygments_lexer": "ipython3",
   "version": "3.12.6"
  }
 },
 "nbformat": 4,
 "nbformat_minor": 2
}
